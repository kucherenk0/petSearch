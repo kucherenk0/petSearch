{
 "cells": [
  {
   "cell_type": "markdown",
   "metadata": {},
   "source": [
    "# Загружаем данные\n",
    "\n",
    "по результатам предсказаний instance\n",
    "\n",
    "адрес и камера айди photos_test_info\n",
    "\n",
    "хвосты tails\n",
    "\n",
    "цвета colors\n",
    "\n",
    "идеальный вариант etalons - получен с помощью https://github.com/AlexanderNevarko/pet-search/blob/main/notebooks/EDA.ipynb"
   ]
  },
  {
   "cell_type": "code",
   "execution_count": 1,
   "metadata": {},
   "outputs": [],
   "source": [
    "import pandas as pd\n",
    "import numpy as np\n",
    "\n",
    "gt = pd.read_csv('test')\n",
    "predicted = gt.copy()\n",
    "\n",
    "instance = pd.read_csv('instance')\n",
    "address_cam_id = pd.read_csv('photos_test_info.csv')\n",
    "tails = pd.read_csv('tails_test.csv')\n",
    "colors = pd.read_csv('colors_test.csv')\n",
    "etalons = pd.read_csv('etalons')"
   ]
  },
  {
   "cell_type": "code",
   "execution_count": 2,
   "metadata": {},
   "outputs": [],
   "source": [
    "address_cam_id['filename'] = address_cam_id['file_path'].apply(lambda x: str(x).split('/')[-1])"
   ]
  },
  {
   "cell_type": "code",
   "execution_count": 3,
   "metadata": {},
   "outputs": [],
   "source": [
    "assert (gt.shape[0] == address_cam_id.shape[0]), 'sizes not equal'"
   ]
  },
  {
   "cell_type": "markdown",
   "metadata": {},
   "source": [
    "# Поскольку у нас нет правильных ответов для адреса, устанавливаем адрес и для эталона"
   ]
  },
  {
   "cell_type": "code",
   "execution_count": 4,
   "metadata": {},
   "outputs": [],
   "source": [
    "for x, i in enumerate(address_cam_id.filename):\n",
    "    ind = predicted[predicted.filename == i].index[0]\n",
    "    predicted.loc[ind, 'address'] = address_cam_id.loc[x, 'street_address']\n",
    "    predicted.loc[ind, 'cam_id'] = address_cam_id.loc[x, 'camera_id']\n",
    "for x, i in enumerate(address_cam_id.filename):\n",
    "    ind = etalons[etalons.filename == i].index[0]\n",
    "    etalons.loc[ind, 'address'] = address_cam_id.loc[x, 'street_address']\n",
    "    etalons.loc[ind, 'cam_id'] = address_cam_id.loc[x, 'camera_id']"
   ]
  },
  {
   "cell_type": "code",
   "execution_count": 5,
   "metadata": {},
   "outputs": [],
   "source": [
    "for x, i in enumerate(tails.filename):\n",
    "    ind = predicted[predicted.filename == i].index[0]\n",
    "    predicted.loc[ind, 'tail'] = tails.loc[x, 'tail']"
   ]
  },
  {
   "cell_type": "code",
   "execution_count": 6,
   "metadata": {},
   "outputs": [],
   "source": [
    "for x, i in enumerate(colors.filename):\n",
    "    ind = predicted[predicted.filename == i].index[0]\n",
    "    predicted.loc[ind, 'color'] = colors.loc[x, 'color']"
   ]
  },
  {
   "cell_type": "code",
   "execution_count": 7,
   "metadata": {},
   "outputs": [],
   "source": [
    "for x, i in enumerate(instance.filename):\n",
    "    ind = predicted[predicted.filename == i].index[0]\n",
    "    predicted.loc[ind, 'is_animal_there'] = instance.loc[x, 'is_animal_there']\n",
    "    predicted.loc[ind, 'is_it_a_dog'] = instance.loc[x, 'is_it_a_dog']\n",
    "    predicted.loc[ind, 'is_the_owner_there'] = instance.loc[x, 'is_the_owner_there']"
   ]
  },
  {
   "cell_type": "code",
   "execution_count": 8,
   "metadata": {},
   "outputs": [],
   "source": [
    "#predicted['address'] = predicted['address'].replace('NONE', '')\n",
    "#predicted['cam_id'] = predicted['cam_id'].replace('NONE', '')\n",
    "\n",
    "#etalons['address'] = etalons['address'].replace('NONE', '')\n",
    "#etalons['cam_id'] = etalons['cam_id'].replace('NONE', '')"
   ]
  },
  {
   "cell_type": "markdown",
   "metadata": {},
   "source": [
    "# Берем итоговый скор от экспертов"
   ]
  },
  {
   "cell_type": "code",
   "execution_count": 9,
   "metadata": {},
   "outputs": [],
   "source": [
    "def score_predictions(pred_df, real_df):\n",
    "    classification_weights = np.array([0.1, 0.1, 0.2, 0.4, 0.2])\n",
    "    classification_columns = [\n",
    "        \"is_animal_there\", \"is_it_a_dog\", \"is_the_owner_there\", \"color\", \"tail\"\n",
    "    ]\n",
    "    Y_hat_c = pred_df[classification_columns].fillna(\"\")\n",
    "    Y_c = real_df[classification_columns].fillna(\"\")\n",
    "    sums = Y_hat_c[classification_columns[1:]].sum(1).values > 0\n",
    "    classification_score = 0\n",
    "    if not np.logical_and(sums, Y_hat_c[\"is_animal_there\"].values == 0).any():\n",
    "        sums2 = Y_hat_c[classification_columns[1:]].sum(1).values > 0\n",
    "        if not np.logical_and(sums2, Y_hat_c[\"is_it_a_dog\"].values == 0).any():\n",
    "            classification_score = np.sum(\n",
    "                classification_weights*np.array(\n",
    "                    [\n",
    "                        balanced_accuracy_score(\n",
    "                            y_pred=Y_hat_c[a].values, y_true=Y_c[a].values\n",
    "                        ) \n",
    "                             for a in classification_columns\n",
    "                    ]\n",
    "                )\n",
    "            )\n",
    "    return(classification_score*100)\n",
    "\n",
    "def score_texts(pred_df, real_df):\n",
    "    text_columns = [\"address\", \"cam_id\"]\n",
    "    Y_hat_t = pred_df[text_columns].fillna(\"\")\n",
    "    Y_t = real_df[text_columns].fillna(\"\")\n",
    "    Y_hat_t[\"cam_id\"] = Y_hat_t[\"cam_id\"].apply(str)\n",
    "    Y_t[\"cam_id\"] = Y_t[\"cam_id\"].apply(str)\n",
    "    ad_lens = Y_hat_t[\"address\"].apply(len).values\n",
    "    cid_lens = Y_hat_t[\"cam_id\"].apply(len).values\n",
    "    largest_lengths = np.array(list(zip(max(a,b) for a,b in zip(ad_lens, cid_lens))))\n",
    "    ad_levs = np.array(\n",
    "        list(zip(distance(a, b) for a,b in zip(Y_hat_t[\"address\"], Y_t[\"address\"])))\n",
    "    )\n",
    "    cid_levs = np.array(\n",
    "        list(zip(distance(a, b) for a,b in zip(Y_hat_t[\"cam_id\"], Y_t[\"cam_id\"])))\n",
    "    )\n",
    "    ad_levs = ad_levs/largest_lengths\n",
    "    cid_levs = cid_levs/largest_lengths\n",
    "    text_score = np.mean(np.array([1/(min(a,b)+10**-5) for a,b in zip(ad_levs, cid_levs)]))\n",
    "    return(text_score)"
   ]
  },
  {
   "cell_type": "code",
   "execution_count": 10,
   "metadata": {},
   "outputs": [],
   "source": [
    "import numpy as np\n",
    "import pandas as pd\n",
    "from sklearn.metrics import balanced_accuracy_score\n",
    "from Levenshtein import distance"
   ]
  },
  {
   "cell_type": "code",
   "execution_count": 11,
   "metadata": {},
   "outputs": [],
   "source": [
    "your_solution = predicted\n",
    "true_solution = etalons"
   ]
  },
  {
   "cell_type": "code",
   "execution_count": 12,
   "metadata": {},
   "outputs": [
    {
     "data": {
      "text/html": [
       "<div>\n",
       "<style scoped>\n",
       "    .dataframe tbody tr th:only-of-type {\n",
       "        vertical-align: middle;\n",
       "    }\n",
       "\n",
       "    .dataframe tbody tr th {\n",
       "        vertical-align: top;\n",
       "    }\n",
       "\n",
       "    .dataframe thead th {\n",
       "        text-align: right;\n",
       "    }\n",
       "</style>\n",
       "<table border=\"1\" class=\"dataframe\">\n",
       "  <thead>\n",
       "    <tr style=\"text-align: right;\">\n",
       "      <th></th>\n",
       "      <th>directory</th>\n",
       "      <th>filename</th>\n",
       "      <th>is_animal_there</th>\n",
       "      <th>is_it_a_dog</th>\n",
       "      <th>is_the_owner_there</th>\n",
       "      <th>color</th>\n",
       "      <th>tail</th>\n",
       "      <th>address</th>\n",
       "      <th>cam_id</th>\n",
       "    </tr>\n",
       "  </thead>\n",
       "  <tbody>\n",
       "    <tr>\n",
       "      <th>309</th>\n",
       "      <td>Хоязин и собака</td>\n",
       "      <td>А47.jpg</td>\n",
       "      <td>1.0</td>\n",
       "      <td>1.0</td>\n",
       "      <td>1.0</td>\n",
       "      <td>1.0</td>\n",
       "      <td>0.0</td>\n",
       "      <td>город Москва, Шелепихинская набережная, дом 22</td>\n",
       "      <td>PVN_hd_TSAO_4915_2</td>\n",
       "    </tr>\n",
       "    <tr>\n",
       "      <th>310</th>\n",
       "      <td>Хоязин и собака</td>\n",
       "      <td>А84.jpg</td>\n",
       "      <td>1.0</td>\n",
       "      <td>1.0</td>\n",
       "      <td>1.0</td>\n",
       "      <td>1.0</td>\n",
       "      <td>0.0</td>\n",
       "      <td>город Москва, улица Каховка, дом 5, корпус 4</td>\n",
       "      <td>PVN_hd_UZAO_7277_1</td>\n",
       "    </tr>\n",
       "    <tr>\n",
       "      <th>311</th>\n",
       "      <td>Хоязин и собака</td>\n",
       "      <td>С76.jpg</td>\n",
       "      <td>1.0</td>\n",
       "      <td>1.0</td>\n",
       "      <td>1.0</td>\n",
       "      <td>0.0</td>\n",
       "      <td>0.0</td>\n",
       "      <td>город Москва, Левобережная улица, дом 4, корпу...</td>\n",
       "      <td>PVN_hd_SAO_6159_54</td>\n",
       "    </tr>\n",
       "    <tr>\n",
       "      <th>312</th>\n",
       "      <td>Хоязин и собака</td>\n",
       "      <td>С63.jpg</td>\n",
       "      <td>1.0</td>\n",
       "      <td>1.0</td>\n",
       "      <td>1.0</td>\n",
       "      <td>0.0</td>\n",
       "      <td>0.0</td>\n",
       "      <td>город Москва, Центросоюзный переулок, дом 4</td>\n",
       "      <td>PVN_hd_TSAO_3647_1</td>\n",
       "    </tr>\n",
       "    <tr>\n",
       "      <th>313</th>\n",
       "      <td>Хоязин и собака</td>\n",
       "      <td>С88.jpg</td>\n",
       "      <td>1.0</td>\n",
       "      <td>1.0</td>\n",
       "      <td>1.0</td>\n",
       "      <td>2.0</td>\n",
       "      <td>0.0</td>\n",
       "      <td>город Москва, Центросоюзный переулок, дом 4</td>\n",
       "      <td>PVN_hd_TSAO_3647_1</td>\n",
       "    </tr>\n",
       "  </tbody>\n",
       "</table>\n",
       "</div>"
      ],
      "text/plain": [
       "           directory filename  is_animal_there  is_it_a_dog  \\\n",
       "309  Хоязин и собака  А47.jpg              1.0          1.0   \n",
       "310  Хоязин и собака  А84.jpg              1.0          1.0   \n",
       "311  Хоязин и собака  С76.jpg              1.0          1.0   \n",
       "312  Хоязин и собака  С63.jpg              1.0          1.0   \n",
       "313  Хоязин и собака  С88.jpg              1.0          1.0   \n",
       "\n",
       "     is_the_owner_there  color  tail  \\\n",
       "309                 1.0    1.0   0.0   \n",
       "310                 1.0    1.0   0.0   \n",
       "311                 1.0    0.0   0.0   \n",
       "312                 1.0    0.0   0.0   \n",
       "313                 1.0    2.0   0.0   \n",
       "\n",
       "                                               address              cam_id  \n",
       "309     город Москва, Шелепихинская набережная, дом 22  PVN_hd_TSAO_4915_2  \n",
       "310       город Москва, улица Каховка, дом 5, корпус 4  PVN_hd_UZAO_7277_1  \n",
       "311  город Москва, Левобережная улица, дом 4, корпу...  PVN_hd_SAO_6159_54  \n",
       "312        город Москва, Центросоюзный переулок, дом 4  PVN_hd_TSAO_3647_1  \n",
       "313        город Москва, Центросоюзный переулок, дом 4  PVN_hd_TSAO_3647_1  "
      ]
     },
     "execution_count": 12,
     "metadata": {},
     "output_type": "execute_result"
    }
   ],
   "source": [
    "your_solution.tail()"
   ]
  },
  {
   "cell_type": "code",
   "execution_count": 13,
   "metadata": {},
   "outputs": [
    {
     "data": {
      "text/html": [
       "<div>\n",
       "<style scoped>\n",
       "    .dataframe tbody tr th:only-of-type {\n",
       "        vertical-align: middle;\n",
       "    }\n",
       "\n",
       "    .dataframe tbody tr th {\n",
       "        vertical-align: top;\n",
       "    }\n",
       "\n",
       "    .dataframe thead th {\n",
       "        text-align: right;\n",
       "    }\n",
       "</style>\n",
       "<table border=\"1\" class=\"dataframe\">\n",
       "  <thead>\n",
       "    <tr style=\"text-align: right;\">\n",
       "      <th></th>\n",
       "      <th>directory</th>\n",
       "      <th>filename</th>\n",
       "      <th>is_animal_there</th>\n",
       "      <th>is_it_a_dog</th>\n",
       "      <th>is_the_owner_there</th>\n",
       "      <th>color</th>\n",
       "      <th>tail</th>\n",
       "      <th>address</th>\n",
       "      <th>cam_id</th>\n",
       "    </tr>\n",
       "  </thead>\n",
       "  <tbody>\n",
       "    <tr>\n",
       "      <th>309</th>\n",
       "      <td>Хоязин и собака</td>\n",
       "      <td>А47.jpg</td>\n",
       "      <td>1.0</td>\n",
       "      <td>1.0</td>\n",
       "      <td>1.0</td>\n",
       "      <td>0.0</td>\n",
       "      <td>0.0</td>\n",
       "      <td>город Москва, Шелепихинская набережная, дом 22</td>\n",
       "      <td>PVN_hd_TSAO_4915_2</td>\n",
       "    </tr>\n",
       "    <tr>\n",
       "      <th>310</th>\n",
       "      <td>Хоязин и собака</td>\n",
       "      <td>А84.jpg</td>\n",
       "      <td>1.0</td>\n",
       "      <td>1.0</td>\n",
       "      <td>1.0</td>\n",
       "      <td>0.0</td>\n",
       "      <td>0.0</td>\n",
       "      <td>город Москва, улица Каховка, дом 5, корпус 4</td>\n",
       "      <td>PVN_hd_UZAO_7277_1</td>\n",
       "    </tr>\n",
       "    <tr>\n",
       "      <th>311</th>\n",
       "      <td>Хоязин и собака</td>\n",
       "      <td>С76.jpg</td>\n",
       "      <td>1.0</td>\n",
       "      <td>1.0</td>\n",
       "      <td>1.0</td>\n",
       "      <td>0.0</td>\n",
       "      <td>0.0</td>\n",
       "      <td>город Москва, Левобережная улица, дом 4, корпу...</td>\n",
       "      <td>PVN_hd_SAO_6159_54</td>\n",
       "    </tr>\n",
       "    <tr>\n",
       "      <th>312</th>\n",
       "      <td>Хоязин и собака</td>\n",
       "      <td>С63.jpg</td>\n",
       "      <td>1.0</td>\n",
       "      <td>1.0</td>\n",
       "      <td>1.0</td>\n",
       "      <td>0.0</td>\n",
       "      <td>0.0</td>\n",
       "      <td>город Москва, Центросоюзный переулок, дом 4</td>\n",
       "      <td>PVN_hd_TSAO_3647_1</td>\n",
       "    </tr>\n",
       "    <tr>\n",
       "      <th>313</th>\n",
       "      <td>Хоязин и собака</td>\n",
       "      <td>С88.jpg</td>\n",
       "      <td>1.0</td>\n",
       "      <td>1.0</td>\n",
       "      <td>1.0</td>\n",
       "      <td>0.0</td>\n",
       "      <td>0.0</td>\n",
       "      <td>город Москва, Центросоюзный переулок, дом 4</td>\n",
       "      <td>PVN_hd_TSAO_3647_1</td>\n",
       "    </tr>\n",
       "  </tbody>\n",
       "</table>\n",
       "</div>"
      ],
      "text/plain": [
       "           directory filename  is_animal_there  is_it_a_dog  \\\n",
       "309  Хоязин и собака  А47.jpg              1.0          1.0   \n",
       "310  Хоязин и собака  А84.jpg              1.0          1.0   \n",
       "311  Хоязин и собака  С76.jpg              1.0          1.0   \n",
       "312  Хоязин и собака  С63.jpg              1.0          1.0   \n",
       "313  Хоязин и собака  С88.jpg              1.0          1.0   \n",
       "\n",
       "     is_the_owner_there  color  tail  \\\n",
       "309                 1.0    0.0   0.0   \n",
       "310                 1.0    0.0   0.0   \n",
       "311                 1.0    0.0   0.0   \n",
       "312                 1.0    0.0   0.0   \n",
       "313                 1.0    0.0   0.0   \n",
       "\n",
       "                                               address              cam_id  \n",
       "309     город Москва, Шелепихинская набережная, дом 22  PVN_hd_TSAO_4915_2  \n",
       "310       город Москва, улица Каховка, дом 5, корпус 4  PVN_hd_UZAO_7277_1  \n",
       "311  город Москва, Левобережная улица, дом 4, корпу...  PVN_hd_SAO_6159_54  \n",
       "312        город Москва, Центросоюзный переулок, дом 4  PVN_hd_TSAO_3647_1  \n",
       "313        город Москва, Центросоюзный переулок, дом 4  PVN_hd_TSAO_3647_1  "
      ]
     },
     "execution_count": 13,
     "metadata": {},
     "output_type": "execute_result"
    }
   ],
   "source": [
    "true_solution.tail()"
   ]
  },
  {
   "cell_type": "markdown",
   "metadata": {},
   "source": [
    "# Итоговые результаты"
   ]
  },
  {
   "cell_type": "code",
   "execution_count": 14,
   "metadata": {},
   "outputs": [
    {
     "name": "stdout",
     "output_type": "stream",
     "text": [
      "Оценка классификации 84.59043585501963\n",
      "Оценка предсказания текста 99999.99999999999\n"
     ]
    }
   ],
   "source": [
    "#@title Запустите эту клетку, чтобы получить результат\n",
    "\n",
    "print(\n",
    "  \"Оценка классификации\", score_predictions(your_solution, true_solution)\n",
    ")\n",
    "print(\n",
    "  \"Оценка предсказания текста\", \n",
    "  score_texts(your_solution, your_solution)\n",
    ")"
   ]
  },
  {
   "cell_type": "code",
   "execution_count": null,
   "metadata": {},
   "outputs": [],
   "source": []
  }
 ],
 "metadata": {
  "kernelspec": {
   "display_name": "Python 3",
   "language": "python",
   "name": "python3"
  },
  "language_info": {
   "codemirror_mode": {
    "name": "ipython",
    "version": 3
   },
   "file_extension": ".py",
   "mimetype": "text/x-python",
   "name": "python",
   "nbconvert_exporter": "python",
   "pygments_lexer": "ipython3",
   "version": "3.7.4"
  }
 },
 "nbformat": 4,
 "nbformat_minor": 2
}
