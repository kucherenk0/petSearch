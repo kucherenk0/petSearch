{
 "cells": [
  {
   "cell_type": "markdown",
   "metadata": {},
   "source": [
    "# Анализ данных по датасету"
   ]
  },
  {
   "cell_type": "code",
   "execution_count": 22,
   "metadata": {},
   "outputs": [],
   "source": [
    "import os\n",
    "import pandas as pd\n",
    "import numpy as np\n",
    "import seaborn as sns\n",
    "import matplotlib.pyplot as plt"
   ]
  },
  {
   "cell_type": "markdown",
   "metadata": {},
   "source": [
    "### Здесь реализация функций поиска адреса и id самеры по пути изображения "
   ]
  },
  {
   "cell_type": "code",
   "execution_count": 23,
   "metadata": {},
   "outputs": [],
   "source": [
    "def get_address(path):\n",
    "    return None\n",
    "\n",
    "def get_cam_id(path):\n",
    "    return None"
   ]
  },
  {
   "cell_type": "markdown",
   "metadata": {},
   "source": [
    "#### Создаем колонки как в колаб ноутбуке для проверки"
   ]
  },
  {
   "cell_type": "code",
   "execution_count": 24,
   "metadata": {},
   "outputs": [],
   "source": [
    "result = pd.DataFrame(columns=['directory', 'filename', 'is_animal_there', 'is_it_a_dog',\n",
    "                           'is_the_owner_there', 'color', 'tail', 'address', 'cam_id'])"
   ]
  },
  {
   "cell_type": "markdown",
   "metadata": {},
   "source": [
    "#### Перечень всех директорий"
   ]
  },
  {
   "cell_type": "code",
   "execution_count": 25,
   "metadata": {},
   "outputs": [],
   "source": [
    "rootdir = '/Users/mariadonskova/Downloads/07. Сервис для поиска пропавших животных/Датасет/'\n",
    "rootdir = '/Users/mariadonskova/Desktop/Тестовые снимки/'\n",
    "\n",
    "list_ = []\n",
    "for dirs in os.listdir(rootdir):\n",
    "    d = os.path.join(rootdir, dirs)\n",
    "    if os.path.isdir(d):\n",
    "        for dirss in os.listdir(d):\n",
    "            dr = os.path.join(d, dirss)\n",
    "            if os.path.isdir(dr):\n",
    "                list_.append(dirss)"
   ]
  },
  {
   "cell_type": "code",
   "execution_count": 26,
   "metadata": {},
   "outputs": [],
   "source": [
    "d_tail = {'длинный': 1, 'короткий': 0}\n",
    "d_color = {'разноцветный': 0, 'светлый': 1, 'темный': 2}"
   ]
  },
  {
   "cell_type": "code",
   "execution_count": 27,
   "metadata": {},
   "outputs": [],
   "source": [
    "import re\n",
    "\n",
    "def get_columns(subdirs):\n",
    "    tail, color = None, None\n",
    "    regex = re.compile('[,\\.!?-]')\n",
    "    after_regex = regex.sub('', subdirs)\n",
    "    reg = after_regex.lower().split(' ')\n",
    "    for item in reg:\n",
    "        if item in d_tail.keys():\n",
    "            tail = d_tail[item]\n",
    "        if item in d_color.keys():\n",
    "            color = d_color[item]\n",
    "    return tail, color"
   ]
  },
  {
   "cell_type": "code",
   "execution_count": 28,
   "metadata": {},
   "outputs": [],
   "source": [
    "def create_df(subdirs, dr, result):\n",
    "    tail, color = get_columns(subdirs)\n",
    "    files = os.listdir(dr)\n",
    "    df3 = pd.DataFrame(np.zeros((len(files), len(columns))), columns=columns)\n",
    "    df3['directory'] = os.path.join(dirs, subdirs)\n",
    "    df3['filename'] = files\n",
    "    df3['is_animal_there'] = np.ones(len(files))\n",
    "    df3['is_it_a_dog'] = np.ones(len(files))\n",
    "    df3['color'] = color * np.ones(len(files))\n",
    "    df3['tail'] = tail * np.ones(len(files))\n",
    "    result = result.append(df3, ignore_index=True)\n",
    "    return result"
   ]
  },
  {
   "cell_type": "code",
   "execution_count": 29,
   "metadata": {},
   "outputs": [
    {
     "name": "stdout",
     "output_type": "stream",
     "text": [
      "/Users/mariadonskova/Desktop/Тестовые снимки\n"
     ]
    },
    {
     "data": {
      "text/plain": [
       "(314, 9)"
      ]
     },
     "execution_count": 52,
     "metadata": {},
     "output_type": "execute_result"
    }
   ],
   "source": [
    "cd /Users/mariadonskova/Desktop/Тестовые снимки"
   ]
  },
  {
   "cell_type": "code",
   "execution_count": 30,
   "metadata": {},
   "outputs": [],
   "source": [
    "!find . -name '.DS_Store' -delete"
   ]
  },
  {
   "cell_type": "code",
   "execution_count": 31,
   "metadata": {},
   "outputs": [],
   "source": [
    "!find . -name '._*' -delete"
   ]
  },
  {
   "cell_type": "markdown",
   "metadata": {},
   "source": [
    "### Создаем датафрейм и заполняем колонки в соответсвии с названиями папок"
   ]
  },
  {
   "cell_type": "code",
   "execution_count": 32,
   "metadata": {},
   "outputs": [],
   "source": [
    "columns=['directory', 'filename', 'is_animal_there', 'is_it_a_dog',\n",
    "                           'is_the_owner_there', 'color', 'tail', 'address', 'cam_id']\n",
    "\n",
    "result = pd.DataFrame(columns=columns)\n",
    "\n",
    "for dirs in os.listdir(rootdir):\n",
    "    d = os.path.join(rootdir, dirs)\n",
    "    if os.path.isdir(d):\n",
    "        if dirs == 'Пустые':\n",
    "            files = os.listdir(d)\n",
    "            df1 = pd.DataFrame(np.zeros((len(files), len(columns))), columns=columns)\n",
    "            df1['directory'] = dirs\n",
    "            df1['filename'] = files\n",
    "            result = result.append(df1, ignore_index=True)\n",
    "        elif (dirs == 'Другие животные') or (dirs == 'не собаки'):\n",
    "            files = os.listdir(d)\n",
    "            df4 = pd.DataFrame(np.zeros((len(files), len(columns))), columns=columns)\n",
    "            df4['directory'] = dirs\n",
    "            df4['filename'] = files\n",
    "            df4['is_animal_there'] = np.ones(len(files))\n",
    "            df4['is_it_a_dog'] = np.zeros(len(files))\n",
    "            result = result.append(df4, ignore_index=True)\n",
    "        elif (dirs == 'Хозяин и собака') or (dirs =='Хоязин и собака'):\n",
    "            files = os.listdir(d)\n",
    "            df2 = pd.DataFrame(np.zeros((len(files), len(columns))), columns=columns)\n",
    "            df2['directory'] = dirs\n",
    "            df2['filename'] = files\n",
    "            df2['is_animal_there'] = np.ones(len(files))\n",
    "            df2['is_it_a_dog'] = np.ones(len(files))\n",
    "            df2['is_the_owner_there'] = np.ones(len(files))\n",
    "            result = result.append(df2, ignore_index=True)\n",
    "        elif (dirs == 'Только собака') or (dirs == 'Только собаки'):\n",
    "            for subdirs in os.listdir(d):\n",
    "                dr = os.path.join(d, subdirs)\n",
    "                if os.path.isdir(dr):\n",
    "                    result = create_df(subdirs, dr, result)\n",
    "\n",
    "\n",
    "result['address'] = result['filename'].apply(lambda x: get_address(x))\n",
    "result['cam_id'] = result['cam_id'].apply(lambda x: get_address(x))\n",
    "\n",
    "all_files = 0\n",
    "for _, _, files in os.walk(rootdir):\n",
    "    all_files += len(files)\n",
    "assert result.shape[0] == all_files, f'NOT ALL IMAGES ARE PROCESSED {result.shape[0]}, {all_files}'"
   ]
  },
  {
   "cell_type": "code",
   "execution_count": 33,
   "metadata": {},
   "outputs": [
    {
     "data": {
      "text/plain": [
       "array(['Пустые', 'Только собаки/РАЗНОЦВЕТНЫЙ КОРОТКИЙ',\n",
       "       'Только собаки/СОБАКА РАЗНОЦВЕТНЫЙ ДЛИННЫЙ',\n",
       "       'Только собаки/СОБАКА СВЕТЛЫЙ ДЛИННЫЙ',\n",
       "       'Только собаки/СОБАКА СВЕТЛЫЙ КОРОТКИЙ',\n",
       "       'Только собаки/ТЕМНЫЙ ДЛИННЫЙ',\n",
       "       'Только собаки/ТЕМНЫЙ КОРОТКИЙ', 'Хоязин и собака', 'не собаки'],\n",
       "      dtype=object)"
      ]
     },
     "execution_count": 33,
     "metadata": {},
     "output_type": "execute_result"
    }
   ],
   "source": [
    "np.unique(result.directory)"
   ]
  },
  {
   "cell_type": "code",
   "execution_count": 34,
   "metadata": {},
   "outputs": [
    {
     "data": {
      "text/html": [
       "<div>\n",
       "<style scoped>\n",
       "    .dataframe tbody tr th:only-of-type {\n",
       "        vertical-align: middle;\n",
       "    }\n",
       "\n",
       "    .dataframe tbody tr th {\n",
       "        vertical-align: top;\n",
       "    }\n",
       "\n",
       "    .dataframe thead th {\n",
       "        text-align: right;\n",
       "    }\n",
       "</style>\n",
       "<table border=\"1\" class=\"dataframe\">\n",
       "  <thead>\n",
       "    <tr style=\"text-align: right;\">\n",
       "      <th></th>\n",
       "      <th>directory</th>\n",
       "      <th>filename</th>\n",
       "      <th>is_animal_there</th>\n",
       "      <th>is_it_a_dog</th>\n",
       "      <th>is_the_owner_there</th>\n",
       "      <th>color</th>\n",
       "      <th>tail</th>\n",
       "      <th>address</th>\n",
       "      <th>cam_id</th>\n",
       "    </tr>\n",
       "  </thead>\n",
       "  <tbody>\n",
       "    <tr>\n",
       "      <th>309</th>\n",
       "      <td>Хоязин и собака</td>\n",
       "      <td>А47.jpg</td>\n",
       "      <td>1.0</td>\n",
       "      <td>1.0</td>\n",
       "      <td>1.0</td>\n",
       "      <td>0.0</td>\n",
       "      <td>0.0</td>\n",
       "      <td>None</td>\n",
       "      <td>None</td>\n",
       "    </tr>\n",
       "    <tr>\n",
       "      <th>310</th>\n",
       "      <td>Хоязин и собака</td>\n",
       "      <td>А84.jpg</td>\n",
       "      <td>1.0</td>\n",
       "      <td>1.0</td>\n",
       "      <td>1.0</td>\n",
       "      <td>0.0</td>\n",
       "      <td>0.0</td>\n",
       "      <td>None</td>\n",
       "      <td>None</td>\n",
       "    </tr>\n",
       "    <tr>\n",
       "      <th>311</th>\n",
       "      <td>Хоязин и собака</td>\n",
       "      <td>С76.jpg</td>\n",
       "      <td>1.0</td>\n",
       "      <td>1.0</td>\n",
       "      <td>1.0</td>\n",
       "      <td>0.0</td>\n",
       "      <td>0.0</td>\n",
       "      <td>None</td>\n",
       "      <td>None</td>\n",
       "    </tr>\n",
       "    <tr>\n",
       "      <th>312</th>\n",
       "      <td>Хоязин и собака</td>\n",
       "      <td>С63.jpg</td>\n",
       "      <td>1.0</td>\n",
       "      <td>1.0</td>\n",
       "      <td>1.0</td>\n",
       "      <td>0.0</td>\n",
       "      <td>0.0</td>\n",
       "      <td>None</td>\n",
       "      <td>None</td>\n",
       "    </tr>\n",
       "    <tr>\n",
       "      <th>313</th>\n",
       "      <td>Хоязин и собака</td>\n",
       "      <td>С88.jpg</td>\n",
       "      <td>1.0</td>\n",
       "      <td>1.0</td>\n",
       "      <td>1.0</td>\n",
       "      <td>0.0</td>\n",
       "      <td>0.0</td>\n",
       "      <td>None</td>\n",
       "      <td>None</td>\n",
       "    </tr>\n",
       "  </tbody>\n",
       "</table>\n",
       "</div>"
      ],
      "text/plain": [
       "           directory filename  is_animal_there  is_it_a_dog  \\\n",
       "309  Хоязин и собака  А47.jpg              1.0          1.0   \n",
       "310  Хоязин и собака  А84.jpg              1.0          1.0   \n",
       "311  Хоязин и собака  С76.jpg              1.0          1.0   \n",
       "312  Хоязин и собака  С63.jpg              1.0          1.0   \n",
       "313  Хоязин и собака  С88.jpg              1.0          1.0   \n",
       "\n",
       "     is_the_owner_there  color  tail address cam_id  \n",
       "309                 1.0    0.0   0.0    None   None  \n",
       "310                 1.0    0.0   0.0    None   None  \n",
       "311                 1.0    0.0   0.0    None   None  \n",
       "312                 1.0    0.0   0.0    None   None  \n",
       "313                 1.0    0.0   0.0    None   None  "
      ]
     },
     "execution_count": 34,
     "metadata": {},
     "output_type": "execute_result"
    }
   ],
   "source": [
    "result.head()"
   ]
  },
  {
   "cell_type": "code",
   "execution_count": 35,
   "metadata": {},
   "outputs": [
    {
     "data": {
      "text/plain": [
       "'/Users/mariadonskova/Desktop/Тестовые снимки'"
      ]
     },
     "execution_count": 35,
     "metadata": {},
     "output_type": "execute_result"
    }
   ],
   "source": [
    "pwd"
   ]
  },
  {
   "cell_type": "code",
   "execution_count": 36,
   "metadata": {},
   "outputs": [],
   "source": [
    "result.to_csv('etalons', index=False)"
   ]
  },
  {
   "cell_type": "markdown",
   "metadata": {},
   "source": [
    "## EDA of Train Data"
   ]
  },
  {
   "cell_type": "code",
   "execution_count": 245,
   "metadata": {},
   "outputs": [
    {
     "data": {
      "text/plain": [
       "<matplotlib.axes._subplots.AxesSubplot at 0x7ff3459bb710>"
      ]
     },
     "execution_count": 245,
     "metadata": {},
     "output_type": "execute_result"
    },
    {
     "data": {
      "image/png": "[encoded data removed]",
      "text/plain": [
       "<Figure size 432x288 with 1 Axes>"
      ]
     },
     "metadata": {
      "needs_background": "light"
     },
     "output_type": "display_data"
    }
   ],
   "source": [
    "x=['нет животного', 'есть животное']\n",
    "summary_color = result.groupby('is_animal_there').size()\n",
    "y = [summary_color.iloc[i] for i in range(len(x))]\n",
    "sns.barplot(x, y)"
   ]
  },
  {
   "cell_type": "code",
   "execution_count": 246,
   "metadata": {},
   "outputs": [
    {
     "data": {
      "text/plain": [
       "<matplotlib.axes._subplots.AxesSubplot at 0x7ff345a0d0d0>"
      ]
     },
     "execution_count": 246,
     "metadata": {},
     "output_type": "execute_result"
    },
    {
     "data": {
      "image/png": "[encoded data removed]",
      "text/plain": [
       "<Figure size 432x288 with 1 Axes>"
      ]
     },
     "metadata": {
      "needs_background": "light"
     },
     "output_type": "display_data"
    }
   ],
   "source": [
    "x=['нет собаки', 'есть собака']\n",
    "summary_color = result[result['is_animal_there'] == 1].groupby('is_it_a_dog').size()\n",
    "y = [summary_color.iloc[i] for i in range(len(x))]\n",
    "sns.barplot(x, y)"
   ]
  },
  {
   "cell_type": "code",
   "execution_count": 247,
   "metadata": {},
   "outputs": [
    {
     "data": {
      "text/plain": [
       "<matplotlib.axes._subplots.AxesSubplot at 0x7ff3458ee410>"
      ]
     },
     "execution_count": 247,
     "metadata": {},
     "output_type": "execute_result"
    },
    {
     "data": {
      "image/png": "[encoded data removed]",
      "text/plain": [
       "<Figure size 432x288 with 1 Axes>"
      ]
     },
     "metadata": {
      "needs_background": "light"
     },
     "output_type": "display_data"
    }
   ],
   "source": [
    "x=['нет хозяина', 'есть хозяин']\n",
    "summary_color = result[result['is_it_a_dog'] == 1].groupby('is_the_owner_there').size()\n",
    "y = [summary_color.iloc[i] for i in range(len(x))]\n",
    "sns.barplot(x, y)"
   ]
  },
  {
   "cell_type": "code",
   "execution_count": 248,
   "metadata": {},
   "outputs": [
    {
     "data": {
      "text/plain": [
       "<matplotlib.axes._subplots.AxesSubplot at 0x7ff345c6a710>"
      ]
     },
     "execution_count": 248,
     "metadata": {},
     "output_type": "execute_result"
    },
    {
     "data": {
      "image/png": "[encoded data removed]",
      "text/plain": [
       "<Figure size 432x288 with 1 Axes>"
      ]
     },
     "metadata": {
      "needs_background": "light"
     },
     "output_type": "display_data"
    }
   ],
   "source": [
    "x=['разноцветный', 'светлый', 'темный']\n",
    "summary_color = result[result['is_it_a_dog'] == 1].groupby('color').size()\n",
    "y = [summary_color.iloc[i] for i in range(len(x))]\n",
    "sns.barplot(x, y)"
   ]
  },
  {
   "cell_type": "code",
   "execution_count": 249,
   "metadata": {},
   "outputs": [
    {
     "data": {
      "text/plain": [
       "<matplotlib.axes._subplots.AxesSubplot at 0x7ff345fe6b10>"
      ]
     },
     "execution_count": 249,
     "metadata": {},
     "output_type": "execute_result"
    },
    {
     "data": {
      "image/png": "[encoded data removed]",
      "text/plain": [
       "<Figure size 432x288 with 1 Axes>"
      ]
     },
     "metadata": {
      "needs_background": "light"
     },
     "output_type": "display_data"
    }
   ],
   "source": [
    "x=['длинный хвост', 'короткий хвост']\n",
    "summary_color = result[result['is_it_a_dog'] == 1].groupby('tail').size()\n",
    "y = [summary_color.iloc[i] for i in range(len(x))]\n",
    "sns.barplot(x, y)"
   ]
  },
  {
   "cell_type": "markdown",
   "metadata": {},
   "source": [
    "## EDA of Test Data"
   ]
  },
  {
   "cell_type": "markdown",
   "metadata": {},
   "source": [
    "### change root "
   ]
  },
  {
   "cell_type": "code",
   "execution_count": 203,
   "metadata": {},
   "outputs": [
    {
     "name": "stderr",
     "output_type": "stream",
     "text": [
      "/Users/aleksandr/miniconda/lib/python3.8/site-packages/seaborn/_decorators.py:36: FutureWarning: Pass the following variables as keyword args: x, y. From version 0.12, the only valid positional argument will be `data`, and passing other arguments without an explicit keyword will result in an error or misinterpretation.\n",
      "  warnings.warn(\n"
     ]
    },
    {
     "data": {
      "text/plain": [
       "<matplotlib.axes._subplots.AxesSubplot at 0x7ff3456d4e10>"
      ]
     },
     "execution_count": 203,
     "metadata": {},
     "output_type": "execute_result"
    },
    {
     "data": {
      "image/png": "[encoded data removed]",
      "text/plain": [
       "<Figure size 432x288 with 1 Axes>"
      ]
     },
     "metadata": {
      "needs_background": "light"
     },
     "output_type": "display_data"
    }
   ],
   "source": [
    "x=['нет животного', 'есть животное']\n",
    "summary_color = result.groupby('is_animal_there').size()\n",
    "y = [summary_color.iloc[i] for i in range(len(x))]\n",
    "sns.barplot(x, y)"
   ]
  },
  {
   "cell_type": "code",
   "execution_count": 199,
   "metadata": {},
   "outputs": [
    {
     "name": "stderr",
     "output_type": "stream",
     "text": [
      "/Users/aleksandr/miniconda/lib/python3.8/site-packages/seaborn/_decorators.py:36: FutureWarning: Pass the following variables as keyword args: x, y. From version 0.12, the only valid positional argument will be `data`, and passing other arguments without an explicit keyword will result in an error or misinterpretation.\n",
      "  warnings.warn(\n"
     ]
    },
    {
     "data": {
      "text/plain": [
       "<matplotlib.axes._subplots.AxesSubplot at 0x7ff3451e9410>"
      ]
     },
     "execution_count": 199,
     "metadata": {},
     "output_type": "execute_result"
    },
    {
     "data": {
      "image/png": "[encoded data removed]",
      "text/plain": [
       "<Figure size 432x288 with 1 Axes>"
      ]
     },
     "metadata": {
      "needs_background": "light"
     },
     "output_type": "display_data"
    }
   ],
   "source": [
    "x=['нет собаки', 'есть собака']\n",
    "summary_color = result[result['is_animal_there'] == 1].groupby('is_it_a_dog').size()\n",
    "y = [summary_color.iloc[i] for i in range(len(x))]\n",
    "sns.barplot(x, y)"
   ]
  },
  {
   "cell_type": "code",
   "execution_count": 200,
   "metadata": {},
   "outputs": [
    {
     "name": "stderr",
     "output_type": "stream",
     "text": [
      "/Users/aleksandr/miniconda/lib/python3.8/site-packages/seaborn/_decorators.py:36: FutureWarning: Pass the following variables as keyword args: x, y. From version 0.12, the only valid positional argument will be `data`, and passing other arguments without an explicit keyword will result in an error or misinterpretation.\n",
      "  warnings.warn(\n"
     ]
    },
    {
     "data": {
      "text/plain": [
       "<matplotlib.axes._subplots.AxesSubplot at 0x7ff34529a8d0>"
      ]
     },
     "execution_count": 200,
     "metadata": {},
     "output_type": "execute_result"
    },
    {
     "data": {
      "image/png": "[encoded data removed]",
      "text/plain": [
       "<Figure size 432x288 with 1 Axes>"
      ]
     },
     "metadata": {
      "needs_background": "light"
     },
     "output_type": "display_data"
    }
   ],
   "source": [
    "x=['нет хозяина', 'есть хозяин']\n",
    "summary_color = result[result['is_it_a_dog'] == 1].groupby('is_the_owner_there').size()\n",
    "y = [summary_color.iloc[i] for i in range(len(x))]\n",
    "sns.barplot(x, y)"
   ]
  },
  {
   "cell_type": "code",
   "execution_count": 201,
   "metadata": {},
   "outputs": [
    {
     "name": "stderr",
     "output_type": "stream",
     "text": [
      "/Users/aleksandr/miniconda/lib/python3.8/site-packages/seaborn/_decorators.py:36: FutureWarning: Pass the following variables as keyword args: x, y. From version 0.12, the only valid positional argument will be `data`, and passing other arguments without an explicit keyword will result in an error or misinterpretation.\n",
      "  warnings.warn(\n"
     ]
    },
    {
     "data": {
      "text/plain": [
       "<matplotlib.axes._subplots.AxesSubplot at 0x7ff345446090>"
      ]
     },
     "execution_count": 201,
     "metadata": {},
     "output_type": "execute_result"
    },
    {
     "data": {
      "image/png": "[encoded data removed]",
      "text/plain": [
       "<Figure size 432x288 with 1 Axes>"
      ]
     },
     "metadata": {
      "needs_background": "light"
     },
     "output_type": "display_data"
    }
   ],
   "source": [
    "x=['разноцветный', 'светлый', 'темный']\n",
    "summary_color = result[result['is_it_a_dog'] == 1].groupby('color').size()\n",
    "y = [summary_color.iloc[i] for i in range(len(x))]\n",
    "sns.barplot(x, y)"
   ]
  },
  {
   "cell_type": "code",
   "execution_count": 202,
   "metadata": {},
   "outputs": [
    {
     "name": "stderr",
     "output_type": "stream",
     "text": [
      "/Users/aleksandr/miniconda/lib/python3.8/site-packages/seaborn/_decorators.py:36: FutureWarning: Pass the following variables as keyword args: x, y. From version 0.12, the only valid positional argument will be `data`, and passing other arguments without an explicit keyword will result in an error or misinterpretation.\n",
      "  warnings.warn(\n"
     ]
    },
    {
     "data": {
      "text/plain": [
       "<matplotlib.axes._subplots.AxesSubplot at 0x7ff345725fd0>"
      ]
     },
     "execution_count": 202,
     "metadata": {},
     "output_type": "execute_result"
    },
    {
     "data": {
      "image/png": "[encoded data removed]",
      "text/plain": [
       "<Figure size 432x288 with 1 Axes>"
      ]
     },
     "metadata": {
      "needs_background": "light"
     },
     "output_type": "display_data"
    }
   ],
   "source": [
    "x=['длинный хвост', 'короткий хвост']\n",
    "summary_color = result[result['is_it_a_dog'] == 1].groupby('tail').size()\n",
    "y = [summary_color.iloc[i] for i in range(len(x))]\n",
    "sns.barplot(x, y)"
   ]
  },
  {
   "cell_type": "code",
   "execution_count": null,
   "metadata": {},
   "outputs": [],
   "source": []
  }
 ],
 "metadata": {
  "kernelspec": {
   "display_name": "Python 3",
   "language": "python",
   "name": "python3"
  },
  "language_info": {
   "codemirror_mode": {
    "name": "ipython",
    "version": 3
   },
   "file_extension": ".py",
   "mimetype": "text/x-python",
   "name": "python",
   "nbconvert_exporter": "python",
   "pygments_lexer": "ipython3",
   "version": "3.8.3"
  }
 },
 "nbformat": 4,
 "nbformat_minor": 4
}
